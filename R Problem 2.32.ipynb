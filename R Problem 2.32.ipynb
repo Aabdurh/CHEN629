{
 "cells": [
  {
   "cell_type": "markdown",
   "metadata": {},
   "source": [
    "Advanced Transport Phenomena, R\n",
    "Chapter 2 Problem 32"
   ]
  },
  {
   "cell_type": "markdown",
   "metadata": {},
   "source": [
    "A dynamic model for a tank with jacket cooling or heating. The mathematical representation for the fluid in the tank is the same with TS replaced by TC in Example 2.15 in the text,\n",
    "\n",
    "where T is the average temperature in the tank.\n",
    "\n",
    "An additional term due to heat generation can be added. This is (−ΔH)(−RA)V. However, this makes the model non-linear, and one also needs to set up a mass balance for the reacting species. The concepts and the method of analysis and model formulations are the same, except that more equations are involved and the numerical solution can be a challenging problem as well.\n",
    "For the coolant we have\n",
    "\n",
    "\n",
    "Note that the sign on the last term is now changed since the jacket is losing heat. The output variables are the vessel and jacket temperatures. The fluid in the jacket is assumed to be well mixed, which might not be a good assumption. Set up a case-study problem involving MATLAB simulation and test for some chosen parameter values. Consider both reacting and non-reacting systems."
   ]
  },
  {
   "cell_type": "code",
   "execution_count": 20,
   "metadata": {},
   "outputs": [],
   "source": [
    "import numpy as np\n",
    "from scipy.integrate import solve_ivp\n",
    "import matplotlib.pyplot as plt\n",
    "from ode_helpers import state_plotter"
   ]
  },
  {
   "cell_type": "code",
   "execution_count": 65,
   "metadata": {},
   "outputs": [],
   "source": [
    "#Reactor parameters\n",
    "dia=0.5\n",
    "R=dia/2\n",
    "H=0.5\n",
    "vol=np.pi*R**2*H\n",
    "U=120.0\n",
    "A=2*np.pi*R*H\n",
    "rho=1000\n",
    "cp=2000\n",
    "Delh=-250.0\n",
    "mdot=.3\n",
    "mdotc=.1\n",
    "tinlet=350.\n",
    "volj=vol/5\n",
    "tinc=300\n",
    "#Reaction parameters\n",
    "A1=200\n",
    "E=300\n",
    "def f(t,Temp,c):\n",
    "    dTdt=[\n",
    "        (mdot*cp*(tinlet-Temp[0])-A1*np.exp(-E/Temp[0])*Delh+U*A*(Temp[1]-Temp[0]))/(rho*cp*vol) #???\n",
    "        , (mdotc*cp*(tinc-Temp[1])-U*A*(Temp[1]-Temp[0]))/(rho*cp*volj)] #???\n",
    "    return dTdt"
   ]
  },
  {
   "cell_type": "code",
   "execution_count": 66,
   "metadata": {},
   "outputs": [
    {
     "name": "stdout",
     "output_type": "stream",
     "text": [
      "The solver successfully reached the end of the integration interval.\n"
     ]
    }
   ],
   "source": [
    "# %% Define time spans, initial values, and constants\n",
    "n = 20\n",
    "tspan = np.linspace(0, 1000, n)\n",
    "#Initial Conditions\n",
    "Tinit = [350, 300]\n",
    "c=[]\n",
    "\n",
    "sol = solve_ivp(lambda t,Temp:f(t,Temp,c), [tspan[0],tspan[-1]],Tinit, t_eval = tspan)\n",
    "\n",
    "if sol.status != 0:\n",
    "    print(\"WARNING: sol.status is %d\" % sol.status)\n",
    "print(sol.message)"
   ]
  },
  {
   "cell_type": "code",
   "execution_count": 69,
   "metadata": {},
   "outputs": [
    {
     "data": {
      "image/png": "[encoded data removed]",
      "text/plain": [
       "<Figure size 432x288 with 2 Axes>"
      ]
     },
     "metadata": {
      "needs_background": "light"
     },
     "output_type": "display_data"
    }
   ],
   "source": [
    "# %% Plot states\n",
    "state_plotter(sol.t, sol.y, 0)"
   ]
  },
  {
   "cell_type": "code",
   "execution_count": null,
   "metadata": {},
   "outputs": [],
   "source": []
  }
 ],
 "metadata": {
  "kernelspec": {
   "display_name": "Python [conda env:.conda-chen629] *",
   "language": "python",
   "name": "conda-env-.conda-chen629-py"
  },
  "language_info": {
   "codemirror_mode": {
    "name": "ipython",
    "version": 3
   },
   "file_extension": ".py",
   "mimetype": "text/x-python",
   "name": "python",
   "nbconvert_exporter": "python",
   "pygments_lexer": "ipython3",
   "version": "3.6.10"
  }
 },
 "nbformat": 4,
 "nbformat_minor": 4
}
