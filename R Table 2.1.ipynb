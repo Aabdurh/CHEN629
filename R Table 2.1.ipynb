{
 "cells": [
  {
   "cell_type": "markdown",
   "metadata": {},
   "source": [
    "Advanced Transport Phenomena, R\n",
    "Table 2.1. MATLAB code for solution of an initial-value problem"
   ]
  },
  {
   "cell_type": "code",
   "execution_count": 5,
   "metadata": {},
   "outputs": [],
   "source": [
    "import numpy as np\n",
    "from scipy.integrate import solve_ivp\n",
    "import matplotlib.pyplot as plt"
   ]
  },
  {
   "cell_type": "code",
   "execution_count": 6,
   "metadata": {},
   "outputs": [],
   "source": [
    "#global param1 param2 % parameters to be given to function dydt.\n",
    "param1 = 2.0\n",
    "param2 = 0.0\n",
    "def dydt(t, y):\n",
    "    return -param1*y"
   ]
  },
  {
   "cell_type": "code",
   "execution_count": 11,
   "metadata": {},
   "outputs": [
    {
     "name": "stdout",
     "output_type": "stream",
     "text": [
      "The solver successfully reached the end of the integration interval.\n"
     ]
    }
   ],
   "source": [
    "n = 11\n",
    "t = np.linspace(0, 2, n)\n",
    "y = np.array([1])\n",
    "\n",
    "sol = solve_ivp(dydt, [t[0],t[n-1]],y, t_eval = t)\n",
    "\n",
    "if sol.status != 0:\n",
    "    print(\"WARNING: sol.status is %d\" % sol.status)\n",
    "print(sol.message)"
   ]
  },
  {
   "cell_type": "code",
   "execution_count": 16,
   "metadata": {},
   "outputs": [
    {
     "data": {
      "image/png": "[encoded data removed]",
      "text/plain": [
       "<Figure size 432x288 with 1 Axes>"
      ]
     },
     "metadata": {
      "needs_background": "light"
     },
     "output_type": "display_data"
    }
   ],
   "source": [
    "#plt.subplot(2, 1, 1)\n",
    "plt.plot(sol.t, sol.y[0], color='#801010', label='$y_0(t)$')\n",
    "plt.grid(alpha=0.5)\n",
    "plt.legend(framealpha=1, shadow=True)\n",
    "plt.show()"
   ]
  }
 ],
 "metadata": {
  "kernelspec": {
   "display_name": "Python [conda env:.conda-chen629] *",
   "language": "python",
   "name": "conda-env-.conda-chen629-py"
  },
  "language_info": {
   "codemirror_mode": {
    "name": "ipython",
    "version": 3
   },
   "file_extension": ".py",
   "mimetype": "text/x-python",
   "name": "python",
   "nbconvert_exporter": "python",
   "pygments_lexer": "ipython3",
   "version": "3.6.10"
  }
 },
 "nbformat": 4,
 "nbformat_minor": 4
}
